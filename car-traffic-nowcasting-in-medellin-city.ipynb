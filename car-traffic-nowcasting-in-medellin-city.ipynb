{
 "cells": [
  {
   "cell_type": "markdown",
   "metadata": {},
   "source": [
    "# Car Traffic Nowcasting in Medellin City\n",
    "Each year Medellin drivers spend 138 hours stuck in traffic jams, which places the city as the 7° city in Latin America with the worst traffic, and number 25 among 220 cities in the world [1].<br>\n",
    "Many areas of transportation lack data, and decision-makers arround the world often plan infrastructure and policy based on uncertain information. In recent years, new types of sensors have become available, and ML can provide relevant information from these data, although the Medellin has this type of sensors, its analysis is currently carried out largely by humans, which significantly limits the amount of information available for decision making.\n",
    "\n",
    "The goal of this project is to generate an open and high-quality API capable of estimating traffic at key points of the city, based on the information provided by traffic cameras, this in order to help and encourage the development of applications that cover the traffic problem in an intelligent way.\n",
    "\n",
    "This project is part of the [ai colab](https://sites.google.com/view/aicolab/home) initiative"
   ]
  },
  {
   "cell_type": "markdown",
   "metadata": {},
   "source": [
    "## Phase 1: Vehicle classification\n",
    "The main goal of this phase is to develop a model capable of distinguishing whether a vehicle is a bus, car, motorcycle, taxi or a truck."
   ]
  },
  {
   "cell_type": "markdown",
   "metadata": {},
   "source": [
    "### Dataset\n",
    "The images used for this phase were downloaded directly from the [Medellin's mobility ministry website](https://www.medellin.gov.co/simm/mapas/index.html?map=camarasCctv), as was mention before bus, car, motorcycle, taxi and truck were used as labels, here is a sample image for each class:\n",
    "<img src=\"res/preview.png\">\n",
    "\n",
    "\n",
    "For this step there are 3649 image: 2570 for train, 549 for validation and 549 for test \n",
    "#### Data preprocessing \n",
    "The preprocessing used was quite simple, basically the images were resized so that they were square, additionally, they were standardized in such a way that their pixels were values between 0 and 1.\n",
    "#### Data augmentation\n",
    "**TODO**"
   ]
  },
  {
   "cell_type": "markdown",
   "metadata": {},
   "source": [
    "### Architecture 1: linear model\n",
    " * git hash: [115e838](https://github.com/shpotes/image-classification/tree/115e83860845961579095d9f5e2f436f64e907be)\n",
    " * [config file](https://raw.githubusercontent.com/shpotes/image-classification/115e83860845961579095d9f5e2f436f64e907be/config.json)"
   ]
  },
  {
   "cell_type": "markdown",
   "metadata": {},
   "source": [
    "#### Overfiting a single batch.\n",
    "The idea of this experiment is to validate that your whole pipeline works.\n",
    "\n",
    "**Learning curves**: \n",
    "<img src=\"res/linear_model/overfit/learning_curve.png\">\n",
    "**Metric**: \n",
    "```\n",
    "> train:    1/1 [==============================] - 0s 5ms/step - loss: 0.4220 - accuracy: 1.0000\n",
    "> test: 106/106 [==============================] - 0s 3ms/step - loss: 1.7935 - accuracy: 0.3686\n",
    "```"
   ]
  },
  {
   "cell_type": "markdown",
   "metadata": {},
   "source": [
    "#### Train on the whole training set.\n",
    "The idea of this experiment is to validate that your model has enough predictive power for your data. It is very likely that a linear model won’t get good enough training performance, do not worry too much about it. The idea is to quickly set up a baseline in performance.\n",
    "\n",
    "**Learning curves**: \n",
    "<img src=\"res/linear_model/real/learning_curve.png\">\n",
    "**Metric**: \n",
    "```\n",
    "> train:    1/1 [==============================] - 0s 5ms/step - loss: 0.4220 - accuracy: 1.0000\n",
    "> test: 106/106 [==============================] - 0s 3ms/step - loss: 1.7935 - accuracy: 0.3686\n",
    "```\n",
    "**sample predictions**:\n",
    "<img src=\"res/linear_model/real/predictions.png\">\n",
    "**confusion matrix**:\n",
    "<img src=\"res/linear_model/real/confusion.png\" width=\"50%\" height=\"50%\">"
   ]
  },
  {
   "cell_type": "code",
   "execution_count": null,
   "metadata": {},
   "outputs": [],
   "source": []
  },
  {
   "cell_type": "code",
   "execution_count": 14,
   "metadata": {},
   "outputs": [
    {
     "data": {
      "text/plain": [
       "NoneType"
      ]
     },
     "execution_count": 14,
     "metadata": {},
     "output_type": "execute_result"
    }
   ],
   "source": [
    "type(test)"
   ]
  }
 ],
 "metadata": {
  "kernelspec": {
   "display_name": "Python 3",
   "language": "python",
   "name": "python3"
  },
  "language_info": {
   "codemirror_mode": {
    "name": "ipython",
    "version": 3
   },
   "file_extension": ".py",
   "mimetype": "text/x-python",
   "name": "python",
   "nbconvert_exporter": "python",
   "pygments_lexer": "ipython3",
   "version": "3.6.8"
  }
 },
 "nbformat": 4,
 "nbformat_minor": 2
}
